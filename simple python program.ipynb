{
 "cells": [
  {
   "cell_type": "markdown",
   "id": "f06fd0ab",
   "metadata": {},
   "source": [
    "# Example question\n",
    "### Q 1: Write a Python program to print \"Hello, World!\""
   ]
  },
  {
   "cell_type": "code",
   "execution_count": 1,
   "id": "04d5c773",
   "metadata": {},
   "outputs": [
    {
     "name": "stdout",
     "output_type": "stream",
     "text": [
      "Hello, World!\n"
     ]
    }
   ],
   "source": [
    "print(\"Hello, World!\")"
   ]
  },
  {
   "cell_type": "markdown",
   "id": "3de26c63",
   "metadata": {},
   "source": [
    "### Q 2: Calculate the sum of two numbers entered by the user."
   ]
  },
  {
   "cell_type": "code",
   "execution_count": 2,
   "id": "98da36b2",
   "metadata": {},
   "outputs": [
    {
     "name": "stdout",
     "output_type": "stream",
     "text": [
      "Enter the 1st num:12\n",
      "Enter the 2st num:22\n",
      "The sum is : 34\n"
     ]
    }
   ],
   "source": [
    "a = int(input(\"Enter the 1st num:\"))\n",
    "b = int(input(\"Enter the 2st num:\"))\n",
    "c = a + b\n",
    "print(\"The sum is :\", c)"
   ]
  },
  {
   "cell_type": "markdown",
   "id": "f1d57fe6",
   "metadata": {},
   "source": [
    "### Q 3: Convert temperature from Celsius to Fahrenheit."
   ]
  },
  {
   "cell_type": "code",
   "execution_count": 3,
   "id": "c40b5564",
   "metadata": {},
   "outputs": [
    {
     "name": "stdout",
     "output_type": "stream",
     "text": [
      "Temperature from Celsius:42\n",
      "Temperature from Celsius to Fahrenheit: 221.0\n"
     ]
    }
   ],
   "source": [
    "Celsius = float(input(\"Temperature from Celsius:\"))\n",
    "#convert\n",
    "Fahrenheit = (Celsius *9/2) + 32\n",
    "print(\"Temperature from Celsius to Fahrenheit:\", Fahrenheit)"
   ]
  },
  {
   "cell_type": "markdown",
   "id": "ff0e5ca6",
   "metadata": {},
   "source": [
    "# Practice question\n",
    "### 1. Write a Python program to calculate the area of a rectangle given its length and width."
   ]
  },
  {
   "cell_type": "code",
   "execution_count": 4,
   "id": "b54f203c",
   "metadata": {},
   "outputs": [
    {
     "name": "stdout",
     "output_type": "stream",
     "text": [
      "Enter the rectangle lenght:55\n",
      "Enter the rectangle width:22\n",
      "Area: 1210.0\n"
     ]
    }
   ],
   "source": [
    "l = float(input(\"Enter the rectangle lenght:\"))\n",
    "b = float(input(\"Enter the rectangle width:\"))\n",
    "print(\"Area:\", l*b)"
   ]
  },
  {
   "cell_type": "markdown",
   "id": "a82b87e1",
   "metadata": {},
   "source": [
    "### 2. Create a program that takes a user's name and age as input and prints a greeting message."
   ]
  },
  {
   "cell_type": "code",
   "execution_count": 5,
   "id": "81237550",
   "metadata": {},
   "outputs": [
    {
     "name": "stdout",
     "output_type": "stream",
     "text": [
      "Name: Adchaya\n",
      "Age: 22\n",
      "Hello! Adchaya Welcome to the coding section. \n",
      "Your are  22 years old. \n",
      "Python is an easy language\n"
     ]
    }
   ],
   "source": [
    "name = str(input(\"Name: \"))\n",
    "age = int(input(\"Age: \"))\n",
    "print(\"Hello!\" , name, \"Welcome to the coding section. \\nYour are \",age, \"years old. \\nPython is an easy language\" )"
   ]
  },
  {
   "cell_type": "markdown",
   "id": "f515ab64",
   "metadata": {},
   "source": [
    "### 3. Write a program to check if a number is even or odd."
   ]
  },
  {
   "cell_type": "code",
   "execution_count": 6,
   "id": "a79c0004",
   "metadata": {},
   "outputs": [
    {
     "name": "stdout",
     "output_type": "stream",
     "text": [
      "a(2444) is even.\n"
     ]
    }
   ],
   "source": [
    "a=2444\n",
    "if a%2==0:\n",
    "  #print(\"a(\",a,\") is even\")\n",
    "  print(f\"a({a}) is even.\")\n",
    "else:\n",
    "   print(f\"a({a}) is odd.\")"
   ]
  },
  {
   "cell_type": "markdown",
   "id": "9b672fb3",
   "metadata": {},
   "source": [
    "### 4. Given a list of numbers, find the maximum and minimum values."
   ]
  },
  {
   "cell_type": "code",
   "execution_count": 7,
   "id": "c3a06a14",
   "metadata": {},
   "outputs": [
    {
     "name": "stdout",
     "output_type": "stream",
     "text": [
      "maximum values is 98\n",
      "minimum values is 5\n"
     ]
    }
   ],
   "source": [
    "num = [19,12,55,22,12,90,5,98,56]\n",
    "print(\"maximum values is\",max(num))\n",
    "print(\"minimum values is\",min(num))"
   ]
  },
  {
   "cell_type": "markdown",
   "id": "85f60fe9",
   "metadata": {},
   "source": [
    "### 5.  Create a Python function to check if a given string is a palindrome."
   ]
  },
  {
   "cell_type": "code",
   "execution_count": 8,
   "id": "e37299b6",
   "metadata": {},
   "outputs": [
    {
     "name": "stdout",
     "output_type": "stream",
     "text": [
      "Enter the string: malayalam\n",
      "malayalam  is palintrome\n"
     ]
    }
   ],
   "source": [
    "def palindrome(a):\n",
    "  return a == a[::-1]\n",
    "a=input(\"Enter the string: \")\n",
    "\n",
    "if palindrome(a):\n",
    "  print(a,\" is palintrome\")\n",
    "else:\n",
    "  print(a,\" not a palindrome\")"
   ]
  },
  {
   "cell_type": "markdown",
   "id": "e5030181",
   "metadata": {},
   "source": [
    "### 6. Calculate the compound interest for a given principal amount, interest rate, and time period."
   ]
  },
  {
   "cell_type": "code",
   "execution_count": 9,
   "id": "a0379fc9",
   "metadata": {},
   "outputs": [
    {
     "name": "stdout",
     "output_type": "stream",
     "text": [
      "Compount Interest :  2018.4028916683474\n"
     ]
    }
   ],
   "source": [
    "p = 12500\n",
    "r = 5/100\n",
    "n = 12\n",
    "t = 3\n",
    "\n",
    "def compount_interest(p, r, n, t):\n",
    "  A = p * (1 + r / n)**(n * t)\n",
    "  I = A - p\n",
    "  return A, I\n",
    "\n",
    "A,  I = compount_interest(p, r, n, t)\n",
    "print(\"Compount Interest : \", I)\n"
   ]
  },
  {
   "cell_type": "markdown",
   "id": "45c6f500",
   "metadata": {},
   "source": [
    "### 7. Write a program that converts a given number of days into years, weeks, and days."
   ]
  },
  {
   "cell_type": "code",
   "execution_count": 10,
   "id": "209ee089",
   "metadata": {},
   "outputs": [
    {
     "name": "stdout",
     "output_type": "stream",
     "text": [
      "860 days is equivalent to:\n",
      "Years: 2\n",
      "Weeks: 18\n",
      "Days: 4\n"
     ]
    }
   ],
   "source": [
    "def numbers_to_years_weeks_days(d):\n",
    "    y = d // 365\n",
    "    re_days = d % 365\n",
    "    w = re_days // 7\n",
    "    re_days %= 7\n",
    "\n",
    "    return y, w, re_days\n",
    "\n",
    "total_days = 860\n",
    "\n",
    "y, w, d = numbers_to_years_weeks_days(total_days)\n",
    "\n",
    "print(f\"{total_days} days is equivalent to:\")\n",
    "print(f\"Years: {y}\")\n",
    "print(f\"Weeks: {w}\")\n",
    "print(f\"Days: {d}\")\n"
   ]
  },
  {
   "cell_type": "markdown",
   "id": "ffd65efa",
   "metadata": {},
   "source": [
    "### 8. Given a list of integers, find the sum of all positive numbers."
   ]
  },
  {
   "cell_type": "code",
   "execution_count": 11,
   "id": "01b09055",
   "metadata": {},
   "outputs": [
    {
     "name": "stdout",
     "output_type": "stream",
     "text": [
      "sum of all positive values:  21\n"
     ]
    }
   ],
   "source": [
    "a = [2, -3, 2, 9, -6, 8, -8]\n",
    "aa = 0\n",
    "\n",
    "for x in a:\n",
    "  if x > 0:\n",
    "    aa += x\n",
    "\n",
    "print('sum of all positive values: ', aa)\n",
    "\n"
   ]
  },
  {
   "cell_type": "markdown",
   "id": "58f439c7",
   "metadata": {},
   "source": [
    "### 9. Create a program that takes a sentence as input and counts the number of words in it."
   ]
  },
  {
   "cell_type": "code",
   "execution_count": 12,
   "id": "badf9763",
   "metadata": {},
   "outputs": [
    {
     "data": {
      "text/plain": [
       "5"
      ]
     },
     "execution_count": 12,
     "metadata": {},
     "output_type": "execute_result"
    }
   ],
   "source": [
    "a = \"python is an easy language\"\n",
    "a_split = a.split()\n",
    "word_count = len(a_split)\n",
    "word_count"
   ]
  },
  {
   "cell_type": "markdown",
   "id": "64b1e5e1",
   "metadata": {},
   "source": [
    "### 10. Implement a program that swaps the values of two variables."
   ]
  },
  {
   "cell_type": "code",
   "execution_count": 13,
   "id": "d1e15dd1",
   "metadata": {},
   "outputs": [
    {
     "name": "stdout",
     "output_type": "stream",
     "text": [
      "a is: 50\n",
      "b is: 10\n"
     ]
    }
   ],
   "source": [
    "a = 10\n",
    "b = 50\n",
    "temp = a\n",
    "a = b\n",
    "b = temp\n",
    "print(\"a is:\", a)\n",
    "print(\"b is:\", b)"
   ]
  },
  {
   "cell_type": "code",
   "execution_count": null,
   "id": "1559b9fc",
   "metadata": {},
   "outputs": [],
   "source": []
  }
 ],
 "metadata": {
  "kernelspec": {
   "display_name": "Python 3 (ipykernel)",
   "language": "python",
   "name": "python3"
  },
  "language_info": {
   "codemirror_mode": {
    "name": "ipython",
    "version": 3
   },
   "file_extension": ".py",
   "mimetype": "text/x-python",
   "name": "python",
   "nbconvert_exporter": "python",
   "pygments_lexer": "ipython3",
   "version": "3.9.13"
  }
 },
 "nbformat": 4,
 "nbformat_minor": 5
}
